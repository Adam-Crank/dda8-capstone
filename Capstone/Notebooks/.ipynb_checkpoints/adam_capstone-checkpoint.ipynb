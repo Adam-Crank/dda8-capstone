{
 "cells": [
  {
   "cell_type": "code",
   "execution_count": null,
   "id": "d632a34f",
   "metadata": {},
   "outputs": [],
   "source": [
    "import pandas as pd\n",
    "import matplotlib.pyplot as plt\n",
    "import requests\n",
    "from bs4 import BeautifulSoup as BS\n",
    "import numpy as np"
   ]
  },
  {
   "cell_type": "markdown",
   "id": "4e94e1ad",
   "metadata": {},
   "source": [
    "### Common Abbreviations Used in this Notebook:\n",
    "\n",
    "- CIRR: Council on Integrity in Results Reporting\n",
    "- THEC: Tennessee Higher Education Commission"
   ]
  },
  {
   "cell_type": "markdown",
   "id": "4f137c39",
   "metadata": {},
   "source": [
    "# Bringing in NSS data\n",
    "Taken from the Tennessee Higher Education Comittee, NSS's data report was in the form of a three-page pdf. I split this pdf into three one-page pdfs, converted each to an excel sheet, then saved as a csv file. Each page had the same row structure wth distinct columns (each column corresponding to a different program offered by NSS), so I was able to merge all three dataframes on the row identifier column, creating a single dataframe holding all NSS-related data\n",
    "\n",
    "For the extent of my capstone, I will only be using the \"nss_3\" dataframe, as I will only be utilizing the final column. However, I am leaving in the larger, merged data set for the purpose of further EDA on other NSS programs."
   ]
  },
  {
   "cell_type": "code",
   "execution_count": null,
   "id": "16ba8141",
   "metadata": {
    "scrolled": true
   },
   "outputs": [],
   "source": [
    "nss_1 = pd.read_csv('../data/upncoming/NSS_1.csv')\n",
    "nss_2 = pd.read_csv('../data/upncoming/NSS_2.csv')\n",
    "nss_3 = pd.read_csv('../data/upncoming/NSS_3.csv')"
   ]
  },
  {
   "cell_type": "code",
   "execution_count": null,
   "id": "e04c4627",
   "metadata": {
    "scrolled": true
   },
   "outputs": [],
   "source": [
    "nss_data = pd.merge(pd.merge(nss_1, nss_2, on='Unnamed: 0'), nss_3, on='Unnamed: 0')\n",
    "nss_data"
   ]
  },
  {
   "cell_type": "markdown",
   "id": "cf50cf7f",
   "metadata": {},
   "source": [
    "# Up-And-Coming Tech Cities\n",
    "\n",
    "I selected several programs that appeared to be comparable to NSS in the sense that they are committed to a similar goal of bolstering the growing tech industries in their cities, which were/are not tech hubs. Though there was an abundance of these programs, I limited my selections to programs that were CIRR-certified. The reason for doing this was that all CIRR-certified data sets are formatted the same way, although this format is not shared with NSS's data, due to NSS not being CIRR-certified.\n",
    "\n",
    "This means that the bulk of the labor required to perform any meaningful analysis will be bridging the CIRR-certified data formatting with THEC's data formatting"
   ]
  },
  {
   "cell_type": "markdown",
   "id": "70449a1f",
   "metadata": {},
   "source": [
    "## Tech Elevator (Detroit)"
   ]
  },
  {
   "cell_type": "code",
   "execution_count": null,
   "id": "e90d7a77",
   "metadata": {
    "scrolled": true
   },
   "outputs": [],
   "source": [
    "tech_elevator= pd.read_csv('../data/upncoming/tech_elevator_detroit.csv')"
   ]
  },
  {
   "cell_type": "markdown",
   "id": "0a19f9a8",
   "metadata": {},
   "source": [
    "## Hack Reactor (Austin)"
   ]
  },
  {
   "cell_type": "code",
   "execution_count": null,
   "id": "cbeef95d",
   "metadata": {
    "scrolled": true
   },
   "outputs": [],
   "source": [
    "hack_reactor = pd.read_csv('../data/upncoming/hack_reactor_austin.csv')"
   ]
  },
  {
   "cell_type": "markdown",
   "id": "5f0382e2",
   "metadata": {},
   "source": [
    "## Project Shift (Durham)"
   ]
  },
  {
   "cell_type": "code",
   "execution_count": null,
   "id": "e8a7547b",
   "metadata": {
    "scrolled": true
   },
   "outputs": [],
   "source": [
    "project_shift = pd.read_csv('../data/upncoming/project_shift_durham.csv')"
   ]
  },
  {
   "cell_type": "markdown",
   "id": "64fb843c",
   "metadata": {},
   "source": [
    "## Hack Upstate (Syracuse)"
   ]
  },
  {
   "cell_type": "code",
   "execution_count": null,
   "id": "2864ad97",
   "metadata": {
    "scrolled": true
   },
   "outputs": [],
   "source": [
    "hack_upstate = pd.read_csv('../data/upncoming/hack_upstate_syracuse.csv')"
   ]
  },
  {
   "cell_type": "markdown",
   "id": "665a86cb",
   "metadata": {},
   "source": [
    "## Codeup (San Antonio)"
   ]
  },
  {
   "cell_type": "code",
   "execution_count": null,
   "id": "908e6402",
   "metadata": {
    "scrolled": true
   },
   "outputs": [],
   "source": [
    "codeup_SA = pd.read_csv('../data/upncoming/codeup_san_antonio.csv')"
   ]
  },
  {
   "cell_type": "markdown",
   "id": "c14ab521",
   "metadata": {},
   "source": [
    "# Established Tech Hubs\n",
    "\n",
    "Additionally, I wanted to compare these full stack bootcamps in up-and-coming tech hub cities with full stack bootcamps in cities that are already massive tech hubs. I expect the certain items from these bootcamps, such as starting salaries and time between graduation and job placement, to vary from the former category, as job opportunities are likely more abundant."
   ]
  },
  {
   "cell_type": "markdown",
   "id": "3122ee7b",
   "metadata": {},
   "source": [
    "## Code Platoon (Chicago)"
   ]
  },
  {
   "cell_type": "code",
   "execution_count": null,
   "id": "ebba0049",
   "metadata": {
    "scrolled": true
   },
   "outputs": [],
   "source": [
    "code_platoon = pd.read_csv('../data/techcenters/code_platoon_chicago.csv')"
   ]
  },
  {
   "cell_type": "markdown",
   "id": "0bee66a0",
   "metadata": {},
   "source": [
    "## Codesmith (Los Angeles)"
   ]
  },
  {
   "cell_type": "code",
   "execution_count": null,
   "id": "320ee88a",
   "metadata": {
    "scrolled": true
   },
   "outputs": [],
   "source": [
    "codesmith = pd.read_csv('../data/techcenters/codesmith_la.csv')"
   ]
  },
  {
   "cell_type": "markdown",
   "id": "54b168c5",
   "metadata": {},
   "source": [
    "## Epicodus (Seattle)"
   ]
  },
  {
   "cell_type": "code",
   "execution_count": null,
   "id": "3c6f1daf",
   "metadata": {
    "scrolled": true
   },
   "outputs": [],
   "source": [
    "epicodus = pd.read_csv('../data/techcenters/epicodus_seattle.csv')"
   ]
  },
  {
   "cell_type": "markdown",
   "id": "28b594b8",
   "metadata": {},
   "source": [
    "## Grace Hopper Full Stack Academy (NYC) "
   ]
  },
  {
   "cell_type": "code",
   "execution_count": null,
   "id": "5b845391",
   "metadata": {
    "scrolled": true
   },
   "outputs": [],
   "source": [
    "fsa_gh = pd.read_csv('../data/techcenters/fullstack_academy_grace_hopper_nyc.csv')"
   ]
  },
  {
   "cell_type": "markdown",
   "id": "a5ef2cc6",
   "metadata": {},
   "source": [
    "## Launch Academy (Boston)"
   ]
  },
  {
   "cell_type": "code",
   "execution_count": null,
   "id": "221367c8",
   "metadata": {
    "scrolled": true
   },
   "outputs": [],
   "source": [
    "launch_academy = pd.read_csv('../data/techcenters/launch_academy_boston.csv')"
   ]
  },
  {
   "cell_type": "markdown",
   "id": "1e45c879",
   "metadata": {},
   "source": [
    "# EXPLORATORY DATA ANALYSIS"
   ]
  },
  {
   "cell_type": "markdown",
   "id": "b2022f7d",
   "metadata": {},
   "source": [
    "### Notes for Accessing Data:\n",
    "df['Unnamed: x'].loc[n] To access point data in columns\n",
    "- x = [1,2], x ∈ ℤ\n",
    "- n = [0,40], n ∈ ℤ\n",
    "\n",
    "### Up and Coming Dataframe Names:\n",
    "- tech_elevator\n",
    "- hack_reactor\n",
    "- project_shift\n",
    "- hack_upstate\n",
    "- codeup_SA\n",
    "\n",
    "### NSS Dataframe Name:\n",
    "- nss_data\n",
    "\n",
    "### Tech Hub Dataframe Names:\n",
    "- code_platoon\n",
    "- codesmith\n",
    "- epicodus\n",
    "- fsa_gh\n",
    "- launch_academy"
   ]
  },
  {
   "cell_type": "markdown",
   "id": "aeecfeed",
   "metadata": {},
   "source": [
    "## Graduation Rates"
   ]
  },
  {
   "cell_type": "code",
   "execution_count": null,
   "id": "0771e45d",
   "metadata": {},
   "outputs": [],
   "source": [
    "grad_rates_upncoming = pd.DataFrame({'School Name':[tech_elevator['Unnamed: 1'].loc[0], hack_reactor['Unnamed: 1'].loc[0], \n",
    "                                                   project_shift['Unnamed: 1'].loc[0], hack_upstate['Unnamed: 1'].loc[0], \n",
    "                                                   codeup_SA['Unnamed: 1'].loc[0]],\n",
    "                                     'Graduation Rates':[tech_elevator['Unnamed: 1'].loc[10], hack_reactor['Unnamed: 1'].loc[10], \n",
    "                                                        project_shift['Unnamed: 1'].loc[10], hack_upstate['Unnamed: 1'].loc[10], \n",
    "                                                         codeup_SA['Unnamed: 1'].loc[10]]})\n",
    "\n",
    "grad_rates_techcenters = pd.DataFrame({'School Name':[code_platoon['Unnamed: 1'].loc[0], codesmith['Unnamed: 1'].loc[0],\n",
    "                                                     epicodus['Unnamed: 1'].loc[0], fsa_gh['Unnamed: 1'].loc[0],\n",
    "                                                     launch_academy['Unnamed: 1'].loc[0]],\n",
    "                                      'Graduation Rates':[code_platoon['Unnamed: 1'].loc[10], codesmith['Unnamed: 1'].loc[10],\n",
    "                                                         epicodus['Unnamed: 1'].loc[10], fsa_gh['Unnamed: 1'].loc[10],\n",
    "                                                         launch_academy['Unnamed: 1'].loc[10]]})\n",
    "\n",
    "grad_rates_nss = pd.DataFrame({'School Name': ['Nashville Software School'], 'Graduation Rates': [nss_3['Web Developer Bootcamp, Certificate'].loc[10]]})"
   ]
  },
  {
   "cell_type": "code",
   "execution_count": null,
   "id": "fb09a207",
   "metadata": {},
   "outputs": [],
   "source": [
    "grad_rates_upncoming['Graduation Rates'] = grad_rates_upncoming['Graduation Rates'].str.replace(\"%\",\"\").astype(float)\n",
    "grad_rates_nss['Graduation Rates'] = grad_rates_nss['Graduation Rates'].str.replace('%','').astype(float)\n",
    "grad_rates_techcenters['Graduation Rates'] = grad_rates_techcenters['Graduation Rates'].str.replace('%','').astype(float)"
   ]
  },
  {
   "cell_type": "code",
   "execution_count": null,
   "id": "b93acd28",
   "metadata": {},
   "outputs": [],
   "source": [
    "#group_averages = pd.DataFrame({'Group' : ['Up and Coming Group Average', 'Tech Hub Group Average'],\n",
    "#                              'Average' : [grad_rates_upncoming['Graduation Rates'].mean(),\n",
    "#                                           grad_rates_techcenters['Graduation Rates'].mean()]})"
   ]
  },
  {
   "cell_type": "code",
   "execution_count": null,
   "id": "7d2b0261",
   "metadata": {},
   "outputs": [],
   "source": [
    "plt.barh(grad_rates_upncoming['School Name'], grad_rates_upncoming['Graduation Rates'], color='#d683a6', \n",
    "        label='Up and Coming Cities')\n",
    "plt.barh(grad_rates_nss['School Name'], grad_rates_nss['Graduation Rates'], color='#747e79', label='NSS')\n",
    "plt.barh(grad_rates_techcenters['School Name'], grad_rates_techcenters['Graduation Rates'], color='#83d6b3', \n",
    "        label='Established Tech Hub Cities')\n",
    "plt.title('Graduation Rates Among Programs (Full Stack)')\n",
    "plt.xlabel('Graduation Rate (%)')\n",
    "#plt.legend(fontsize=10)\n",
    "plt.legend(loc='center left', bbox_to_anchor=(1, 0.5))\n",
    "\n",
    "plt.savefig('../data/figures/grad_rates.png', bbox_inches=\"tight\")"
   ]
  },
  {
   "cell_type": "markdown",
   "id": "0bd068fb",
   "metadata": {},
   "source": [
    "## Employment (in-field) Rates"
   ]
  },
  {
   "cell_type": "code",
   "execution_count": null,
   "id": "420a1fa7",
   "metadata": {},
   "outputs": [],
   "source": [
    "#index 16 (NSS)\n",
    "#index 15 (All Else)\n",
    "\n",
    "employment_upncoming = pd.DataFrame({'School Name':[tech_elevator['Unnamed: 1'].loc[0], hack_reactor['Unnamed: 1'].loc[0], \n",
    "                                                   project_shift['Unnamed: 1'].loc[0], hack_upstate['Unnamed: 1'].loc[0], \n",
    "                                                   codeup_SA['Unnamed: 1'].loc[0]],\n",
    "                                     'Employment Rates':[tech_elevator['Unnamed: 1'].loc[15], hack_reactor['Unnamed: 1'].loc[15], \n",
    "                                                        project_shift['Unnamed: 1'].loc[15], hack_upstate['Unnamed: 1'].loc[15], \n",
    "                                                         codeup_SA['Unnamed: 1'].loc[15]]})\n",
    "\n",
    "employment_techcenters = pd.DataFrame({'School Name':[code_platoon['Unnamed: 1'].loc[0], codesmith['Unnamed: 1'].loc[0],\n",
    "                                                     epicodus['Unnamed: 1'].loc[0], fsa_gh['Unnamed: 1'].loc[0],\n",
    "                                                     launch_academy['Unnamed: 1'].loc[0]],\n",
    "                                      'Employment Rates':[code_platoon['Unnamed: 1'].loc[15], codesmith['Unnamed: 1'].loc[15],\n",
    "                                                         epicodus['Unnamed: 1'].loc[15], fsa_gh['Unnamed: 1'].loc[15],\n",
    "                                                         launch_academy['Unnamed: 1'].loc[15]]})\n",
    "\n",
    "employment_nss = pd.DataFrame({'School Name': ['Nashville Software School'], 'Employment Rates': [nss_3['Web Developer Bootcamp, Certificate'].loc[16]]})"
   ]
  },
  {
   "cell_type": "code",
   "execution_count": null,
   "id": "4676c543",
   "metadata": {},
   "outputs": [],
   "source": [
    "employment_upncoming"
   ]
  },
  {
   "cell_type": "code",
   "execution_count": null,
   "id": "24c78049",
   "metadata": {},
   "outputs": [],
   "source": [
    "employment_upncoming['Employment Rates'] = employment_upncoming['Employment Rates'].str.replace(\"%\",\"\").astype(float)\n",
    "employment_nss['Employment Rates'] = employment_nss['Employment Rates'].str.replace('%','').astype(float)\n",
    "employment_techcenters['Employment Rates'] = employment_techcenters['Employment Rates'].str.replace('%','').astype(float)"
   ]
  },
  {
   "cell_type": "code",
   "execution_count": null,
   "id": "6e0def09",
   "metadata": {
    "scrolled": false
   },
   "outputs": [],
   "source": [
    "plt.barh(employment_upncoming['School Name'], employment_upncoming['Employment Rates'], color='#d683a6', \n",
    "        label='Up and Coming Cities')\n",
    "plt.barh(employment_nss['School Name'], employment_nss['Employment Rates'], color='#747e79', label='NSS')\n",
    "plt.barh(employment_techcenters['School Name'], employment_techcenters['Employment Rates'], color='#83d6b3', \n",
    "        label='Established Tech Hub Cities')\n",
    "plt.title('In-Field Employment Rates Among Programs (Full Stack)')\n",
    "plt.xlabel('Employment Rate (%)')\n",
    "#plt.legend(fontsize=10)\n",
    "plt.legend(loc='center left', bbox_to_anchor=(1, 0.5))\n",
    "\n",
    "plt.savefig('../data/figures/employ_rates.png', bbox_inches=\"tight\")"
   ]
  },
  {
   "cell_type": "markdown",
   "id": "81a0d84f",
   "metadata": {},
   "source": [
    "### Web Scraping (Monthly Cost of Living by State)"
   ]
  },
  {
   "cell_type": "code",
   "execution_count": null,
   "id": "1bc38af3",
   "metadata": {},
   "outputs": [],
   "source": [
    "URL = 'https://livingcost.org/cost/united-states'\n",
    "\n",
    "response = requests.get(URL)"
   ]
  },
  {
   "cell_type": "code",
   "execution_count": null,
   "id": "c35aa851",
   "metadata": {},
   "outputs": [],
   "source": [
    "response.status_code"
   ]
  },
  {
   "cell_type": "code",
   "execution_count": null,
   "id": "2cb7d156",
   "metadata": {},
   "outputs": [],
   "source": [
    "soup = BS(response.text)"
   ]
  },
  {
   "cell_type": "code",
   "execution_count": null,
   "id": "2a759a0c",
   "metadata": {
    "scrolled": false
   },
   "outputs": [],
   "source": [
    "COL_list = pd.read_html(str(soup.find('table', class_='table table-sm table-striped text-center')))\n",
    "#pd.DataFrame(monthly_COL)\n",
    "COL = COL_list[0]\n",
    "COL.drop(['Rank'], axis=1, inplace=True)\n",
    "COL['Cost of living'] = COL['Cost of living'].str.replace('$','').astype(int)\n",
    "COL['Cost of living'] = COL['Cost of living']*12\n",
    "COL = COL.set_index('State')"
   ]
  },
  {
   "cell_type": "markdown",
   "id": "4c5c7504",
   "metadata": {},
   "source": [
    "## EXTRA STUFF??"
   ]
  },
  {
   "cell_type": "markdown",
   "id": "04efeaf1",
   "metadata": {},
   "source": [
    "## Salary?\n",
    "\n",
    "### Notes for Accessing Data:\n",
    "df['Unnamed: x'].loc[n] To access point data in columns\n",
    "\n",
    "### Up and Coming Dataframe Names:\n",
    "- tech_elevator (DETROIT)\n",
    "- hack_reactor (AUSTIN)\n",
    "- project_shift (DURHAM)\n",
    "- hack_upstate (SYRACUSE)\n",
    "- codeup_SA (SAN ANTONIO)\n",
    "\n",
    "### NSS Dataframe Name:\n",
    "- nss_data\n",
    "\n",
    "### Tech Hub Dataframe Names:\n",
    "- code_platoon (CHICAGO)\n",
    "- codesmith (LOS ANGELES)\n",
    "- epicodus (SEATLLE)\n",
    "- fsa_gh (NYC)\n",
    "- launch_academy (BOSTON)"
   ]
  },
  {
   "cell_type": "code",
   "execution_count": null,
   "id": "f1c2d0fb",
   "metadata": {},
   "outputs": [],
   "source": [
    "income_upncoming = pd.DataFrame({'School Name':[tech_elevator['Unnamed: 1'].loc[0], hack_reactor['Unnamed: 1'].loc[0], \n",
    "                                                   project_shift['Unnamed: 1'].loc[0], hack_upstate['Unnamed: 1'].loc[0], \n",
    "                                                   codeup_SA['Unnamed: 1'].loc[0]],\n",
    "                                 'State':['Michigan', 'Texas State', 'North Carolina', 'New York State', 'Texas State'],\n",
    "                                     'Median Income':[tech_elevator['Unnamed: 1'].loc[27], hack_reactor['Unnamed: 1'].loc[27], \n",
    "                                                        project_shift['Unnamed: 1'].loc[27], hack_upstate['Unnamed: 1'].loc[27], \n",
    "                                                         codeup_SA['Unnamed: 1'].loc[27]]})\n",
    "\n",
    "income_techcenters = pd.DataFrame({'School Name':[code_platoon['Unnamed: 1'].loc[0], codesmith['Unnamed: 1'].loc[0],\n",
    "                                                     epicodus['Unnamed: 1'].loc[0], fsa_gh['Unnamed: 1'].loc[0],\n",
    "                                                     launch_academy['Unnamed: 1'].loc[0]],\n",
    "                                   'State':['Illinois', 'California', 'Washington', 'New York State', 'Massachusetts'],\n",
    "                                      'Median Income':[code_platoon['Unnamed: 1'].loc[27], codesmith['Unnamed: 1'].loc[27],\n",
    "                                                         epicodus['Unnamed: 1'].loc[27], fsa_gh['Unnamed: 1'].loc[27],\n",
    "                                                         launch_academy['Unnamed: 1'].loc[27]]})\n",
    "\n",
    "income_nss = pd.DataFrame({'School Name' : ['Nashville Software School'], 'State' : ['Tennessee'],\n",
    "                          'Median Income' : [60000], 'Normalized' : [60000/COL['Cost of living'].loc['Tennessee']]})\n",
    "#employment_nss = pd.DataFrame({'School Name': ['Nashville Software School'], 'Employment Rates': [nss_3['Web Developer Bootcamp, Certificate'].loc[16]]})"
   ]
  },
  {
   "cell_type": "code",
   "execution_count": null,
   "id": "7ca1340b",
   "metadata": {},
   "outputs": [],
   "source": [
    "income_nss"
   ]
  },
  {
   "cell_type": "code",
   "execution_count": null,
   "id": "b3b49e75",
   "metadata": {},
   "outputs": [],
   "source": [
    "income_upncoming['Median Income'] = income_upncoming['Median Income'].str.replace(\"$\",\"\")\n",
    "income_upncoming['Median Income'] = income_upncoming['Median Income'].str.replace(\",\",\"\").astype(float)\n",
    "income_techcenters['Median Income'] = income_techcenters['Median Income'].str.replace('$','') \n",
    "income_techcenters['Median Income'] = income_techcenters['Median Income'].str.replace(',','').astype(float)"
   ]
  },
  {
   "cell_type": "code",
   "execution_count": null,
   "id": "9bf4b84c",
   "metadata": {
    "scrolled": true
   },
   "outputs": [],
   "source": [
    "income_upncoming"
   ]
  },
  {
   "cell_type": "code",
   "execution_count": null,
   "id": "81990e9f",
   "metadata": {
    "scrolled": true
   },
   "outputs": [],
   "source": [
    "normal_income_upncoming = []\n",
    "for i in np.arange(len(income_upncoming)):\n",
    "    normal_income_upncoming.append(income_upncoming['Median Income'][i]/COL['Cost of living'].loc[income_upncoming['State'][i]])\n",
    "    \n",
    "normal_income_techcenters = []\n",
    "for i in np.arange(len(income_techcenters)):\n",
    "    normal_income_techcenters.append(income_techcenters['Median Income'][i]/COL['Cost of living'].loc[income_techcenters['State'][i]])"
   ]
  },
  {
   "cell_type": "code",
   "execution_count": null,
   "id": "ad2f2e74",
   "metadata": {},
   "outputs": [],
   "source": [
    "income_upncoming['Normalized'] = normal_income_upncoming\n",
    "income_techcenters['Normalized'] = normal_income_techcenters\n",
    "income_techcenters"
   ]
  },
  {
   "cell_type": "code",
   "execution_count": null,
   "id": "f7c5b88f",
   "metadata": {},
   "outputs": [],
   "source": [
    "income_upncoming"
   ]
  },
  {
   "cell_type": "code",
   "execution_count": null,
   "id": "96765f83",
   "metadata": {},
   "outputs": [],
   "source": [
    "plt.barh(income_upncoming['School Name'], income_upncoming['Median Income'], color='#d683a6', \n",
    "        label='Up and Coming Cities')\n",
    "plt.barh(income_nss['School Name'], income_nss['Median Income'], color='#747e79', label='NSS')\n",
    "plt.barh(income_techcenters['School Name'], income_techcenters['Median Income'] , color='#83d6b3', \n",
    "        label='Established Tech Hub Cities')\n",
    "plt.title('Median Salary Among Programs (Full Stack)')\n",
    "plt.xlabel('Median Salary ($)')\n",
    "#plt.legend(fontsize=10)\n",
    "plt.legend(loc='center left', bbox_to_anchor=(1, 0.5))\n",
    "\n",
    "plt.savefig('../data/figures/med_sal_rates.png', bbox_inches=\"tight\")"
   ]
  },
  {
   "cell_type": "code",
   "execution_count": null,
   "id": "58b6e6fb",
   "metadata": {},
   "outputs": [],
   "source": [
    "plt.barh(income_upncoming['School Name'], income_upncoming['Normalized'], color='#d683a6', \n",
    "        label='Up and Coming Cities')\n",
    "plt.barh(income_nss['School Name'], income_nss['Normalized'], color='#747e79', label='NSS')\n",
    "plt.barh(income_techcenters['School Name'], income_techcenters['Normalized'] , color='#83d6b3', \n",
    "        label='Established Tech Hub Cities')\n",
    "#plt.xticks(rotation=90)\n",
    "plt.title('Median Salary Among Programs (Full Stack), Normalized by State Cost of Living')\n",
    "plt.xlabel('Median Salary / State Cost of Living')\n",
    "#plt.legend(fontsize=10)\n",
    "plt.legend(loc='center left', bbox_to_anchor=(1, 0.5))\n",
    "\n",
    "plt.savefig('../data/figures/med_sal_rates_normed.png', bbox_inches=\"tight\")"
   ]
  },
  {
   "cell_type": "markdown",
   "id": "c190d49a",
   "metadata": {},
   "source": [
    "## Tuition and Duration\n",
    "\n",
    "- Setting up new dataframe containing all this information, since I had to manually collect it from each program's webpage, and not from a previously constructed dataset."
   ]
  },
  {
   "cell_type": "code",
   "execution_count": null,
   "id": "a612cce0",
   "metadata": {
    "scrolled": true
   },
   "outputs": [],
   "source": [
    "# Removing \" State\" from New York and Texas for easy merging\n",
    "\n",
    "state_indices = COL.index.to_list()\n",
    "for i in np.arange(len(state_indices)):\n",
    "    state_indices[i] = state_indices[i].replace(' State', '')\n",
    "\n",
    "COL['States'] = state_indices\n",
    "COL = COL.set_index('States')\n",
    "COL.reset_index(inplace=True)"
   ]
  },
  {
   "cell_type": "code",
   "execution_count": null,
   "id": "949e4032",
   "metadata": {
    "scrolled": true
   },
   "outputs": [],
   "source": [
    "#Setting up basic geographical information for each program\n",
    "\n",
    "programs_geo = pd.DataFrame({'Program' : ['Tech Elevator', 'Hack Reactor', 'Project Shift', 'Hack Upstate', 'Codeup', \n",
    "                                          'Nashville Software School', 'Code Platoon', 'Codesmith', 'Epicodus', \n",
    "                                          'Full Stack Academy', 'Launch Academy'],\n",
    "                             'City' : ['Detroit', 'Austin', 'Durham', 'Syracuse', 'San Antonio', 'Nashville', 'Chicago',\n",
    "                                       'Los Angeles', 'Seattle', 'New York City', 'Boston'],\n",
    "                             'State' : ['Michigan', 'Texas', 'North Carolina', 'New York', 'Texas', 'Tennessee', 'Illinois',\n",
    "                                        'California', 'Washington', 'New York', 'Massachusetts']})\\\n",
    "\n",
    "\n",
    "#Reading in collected data on tuition and duration\n",
    "\n",
    "tuition_data = pd.read_csv('../data/tuition_duration.csv')"
   ]
  },
  {
   "cell_type": "code",
   "execution_count": null,
   "id": "36629598",
   "metadata": {},
   "outputs": [],
   "source": [
    "#Merging\n",
    "\n",
    "programs_df = pd.merge(pd.merge(programs_geo, COL, how='left', left_on='State', right_on='States'), tuition_data, \n",
    "                        how='left', left_on='Program', right_on='Program')\n",
    "\n",
    "programs_df.drop(['States'], inplace=True, axis=1)\n",
    "programs_df"
   ]
  },
  {
   "cell_type": "code",
   "execution_count": null,
   "id": "20f40651",
   "metadata": {},
   "outputs": [],
   "source": []
  },
  {
   "cell_type": "code",
   "execution_count": null,
   "id": "780832ac",
   "metadata": {
    "scrolled": true
   },
   "outputs": [],
   "source": [
    "tudur_upncoming = programs_df.loc[0:4]\n",
    "tudur_nss = pd.DataFrame(programs_df.loc[5]).T\n",
    "tudur_techcenters = programs_df.loc[6:10]"
   ]
  },
  {
   "cell_type": "code",
   "execution_count": null,
   "id": "8e949686",
   "metadata": {},
   "outputs": [],
   "source": [
    "plt.barh(tudur_upncoming['City'], tudur_upncoming['Cost of living'], color='black', \n",
    "        label='Up and Coming Cities')\n",
    "plt.barh(tudur_nss['City'], tudur_nss['Cost of living'], color='black', label='NSS')\n",
    "plt.barh(tudur_techcenters['City'], tudur_techcenters['Cost of living'] , color='black', \n",
    "        label='Established Tech Hub Cities')\n",
    "plt.title('Cost of Living by State')\n",
    "plt.xlabel('Cost of living ($/year)')\n",
    "#plt.legend(fontsize=10)\n",
    "plt.legend(loc='center left', bbox_to_anchor=(1, 0.5))\n",
    "\n",
    "#plt.savefig('../data/figures/cost_tuition.png', bbox_inches=\"tight\")"
   ]
  },
  {
   "cell_type": "code",
   "execution_count": null,
   "id": "b017de8e",
   "metadata": {
    "scrolled": false
   },
   "outputs": [],
   "source": [
    "plt.barh(tudur_upncoming['Program'], tudur_upncoming['Tuition'], color='#d683a6', \n",
    "        label='Up and Coming Cities')\n",
    "plt.barh(tudur_nss['Program'], tudur_nss['Tuition'], color='#747e79', label='NSS')\n",
    "plt.barh(tudur_techcenters['Program'], tudur_techcenters['Tuition'] , color='#83d6b3', \n",
    "        label='Established Tech Hub Cities')\n",
    "plt.title('Cost of Tuition by Bootcamp')\n",
    "plt.xlabel('Cost of Tuition ($)')\n",
    "#plt.legend(fontsize=10)\n",
    "plt.legend(loc='center left', bbox_to_anchor=(1, 0.5))\n",
    "\n",
    "plt.savefig('../data/figures/cost_tuition.png', bbox_inches=\"tight\")"
   ]
  },
  {
   "cell_type": "code",
   "execution_count": null,
   "id": "17baee73",
   "metadata": {},
   "outputs": [],
   "source": [
    "plt.barh(tudur_upncoming['Program'], tudur_upncoming['Duration'], color='#d683a6', \n",
    "        label='Up and Coming Cities')\n",
    "plt.barh(tudur_nss['Program'], tudur_nss['Duration'], color='#747e79', label='NSS')\n",
    "plt.barh(tudur_techcenters['Program'], tudur_techcenters['Duration'] , color='#83d6b3', \n",
    "        label='Established Tech Hub Cities')\n",
    "plt.title('Duration of Bootcamp')\n",
    "plt.xlabel('Duration (Weeks)')\n",
    "#plt.legend(fontsize=10)\n",
    "plt.legend(loc='center left', bbox_to_anchor=(1, 0.5))\n",
    "\n",
    "plt.savefig('../data/figures/duration_bootcamp.png', bbox_inches=\"tight\")"
   ]
  },
  {
   "cell_type": "code",
   "execution_count": null,
   "id": "b5d8c637",
   "metadata": {
    "scrolled": false
   },
   "outputs": [],
   "source": [
    "plt.barh(tudur_upncoming['Program'], tudur_upncoming['Cost per Week'], color='#d683a6', \n",
    "        label='Up and Coming Cities')\n",
    "plt.barh(tudur_nss['Program'], tudur_nss['Cost per Week'], color='#747e79', label='NSS')\n",
    "plt.barh(tudur_techcenters['Program'], tudur_techcenters['Cost per Week'] , color='#83d6b3', \n",
    "        label='Established Tech Hub Cities')\n",
    "plt.title('Cost per Week by Bootcamp')\n",
    "plt.xlabel('Cost per Week ($/week)')\n",
    "#plt.legend(fontsize=10)\n",
    "plt.legend(loc='center left', bbox_to_anchor=(1, 0.5))\n",
    "\n",
    "plt.savefig('../data/figures/cost_per_week.png', bbox_inches=\"tight\")"
   ]
  },
  {
   "cell_type": "code",
   "execution_count": null,
   "id": "820972a6",
   "metadata": {
    "scrolled": true
   },
   "outputs": [],
   "source": [
    "med_incomes = pd.concat([pd.concat([income_upncoming, income_nss]), income_techcenters]).drop(['State', 'Normalized'], \n",
    "                                                                                              axis=1)\n",
    "med_incomes['Median Income'] = med_incomes['Median Income']/52\n",
    "med_incomes.rename(columns={'Median Income' : 'Salary per Week'}, inplace=True)\n",
    "med_incomes['School Name'] = med_incomes['School Name'].replace(['Hack Upstate\\'s Careers in Code', \n",
    "                                                                 'Codeup, LLC', 'Fullstack Academy, Inc.'],\n",
    "                                                                ['Hack Upstate', 'Codeup', 'Full Stack Academy'])\n",
    "\n",
    "#= med_incomes['School Name'].map({'Hack Upstate\\'s Careers in Code' : 'Hack Upstate',\n",
    "#                                                            'Codeup, LLC' : 'Codeup', \n",
    "#                                                             'Fullstack Academy, Inc.' : 'Full Stack Academy'},\n",
    "#                                                           na_action=None)\n",
    "med_incomes"
   ]
  },
  {
   "cell_type": "code",
   "execution_count": null,
   "id": "11ca70e5",
   "metadata": {},
   "outputs": [],
   "source": [
    "programs_df"
   ]
  },
  {
   "cell_type": "code",
   "execution_count": null,
   "id": "bc38e067",
   "metadata": {
    "scrolled": true
   },
   "outputs": [],
   "source": [
    "cost_by_salary = pd.merge(programs_df, med_incomes, how='left', left_on='Program', right_on='School Name')\n",
    "cost_by_salary.drop(['School Name'], axis=1, inplace=True)\n",
    "cost_by_salary['Cost per Salary'] = cost_by_salary['Salary per Week']/cost_by_salary['Cost per Week']\n",
    "cost_by_salary"
   ]
  },
  {
   "cell_type": "code",
   "execution_count": null,
   "id": "e71f1bb5",
   "metadata": {
    "scrolled": true
   },
   "outputs": [],
   "source": [
    "cps_upncoming = cost_by_salary.loc[0:4]\n",
    "cps_nss = pd.DataFrame(cost_by_salary.loc[5]).T\n",
    "cps_techcenters = cost_by_salary.loc[6:10]"
   ]
  },
  {
   "cell_type": "code",
   "execution_count": null,
   "id": "dec0e172",
   "metadata": {},
   "outputs": [],
   "source": [
    "plt.barh(cps_upncoming['Program'], cps_upncoming['Cost per Salary'], color='#d683a6', \n",
    "        label='Up and Coming Cities')\n",
    "plt.barh(cps_nss['Program'], cps_nss['Cost per Salary'], color='#747e79', label='NSS')\n",
    "plt.barh(cps_techcenters['Program'], cps_techcenters['Cost per Salary'] , color='#83d6b3', \n",
    "        label='Established Tech Hub Cities')\n",
    "plt.axvline(x = 1, color = 'black', linestyle = '--')\n",
    "plt.title('Weekly Cost vs Weekly Payout by Bootcamp')\n",
    "plt.xlabel('Salary by Week / Cost by Week')\n",
    "#plt.legend(fontsize=10)\n",
    "plt.legend(loc='center left', bbox_to_anchor=(1, 0.5))\n",
    "\n",
    "plt.savefig('../data/figures/cost_per_salary.png', bbox_inches=\"tight\")"
   ]
  }
 ],
 "metadata": {
  "kernelspec": {
   "display_name": "Python 3 (ipykernel)",
   "language": "python",
   "name": "python3"
  },
  "language_info": {
   "codemirror_mode": {
    "name": "ipython",
    "version": 3
   },
   "file_extension": ".py",
   "mimetype": "text/x-python",
   "name": "python",
   "nbconvert_exporter": "python",
   "pygments_lexer": "ipython3",
   "version": "3.9.13"
  }
 },
 "nbformat": 4,
 "nbformat_minor": 5
}
